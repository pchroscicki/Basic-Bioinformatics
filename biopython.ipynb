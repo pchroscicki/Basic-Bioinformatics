{
  "nbformat": 4,
  "nbformat_minor": 0,
  "metadata": {
    "colab": {
      "provenance": [],
      "authorship_tag": "ABX9TyNQNDclWm4Lu30AU5ngThWB",
      "include_colab_link": true
    },
    "kernelspec": {
      "name": "python3",
      "display_name": "Python 3"
    },
    "language_info": {
      "name": "python"
    }
  },
  "cells": [
    {
      "cell_type": "markdown",
      "metadata": {
        "id": "view-in-github",
        "colab_type": "text"
      },
      "source": [
        "<a href=\"https://colab.research.google.com/github/pchroscicki/Basic-Bioinformatics/blob/main/biopython.ipynb\" target=\"_parent\"><img src=\"https://colab.research.google.com/assets/colab-badge.svg\" alt=\"Open In Colab\"/></a>"
      ]
    },
    {
      "cell_type": "code",
      "execution_count": null,
      "metadata": {
        "colab": {
          "base_uri": "https://localhost:8080/"
        },
        "id": "Rl_OIOU19t6x",
        "outputId": "477a22b1-97b4-4fc0-e121-43ad8c1d7a34"
      },
      "outputs": [
        {
          "output_type": "stream",
          "name": "stdout",
          "text": [
            "Collecting biopython\n",
            "  Downloading biopython-1.81-cp310-cp310-manylinux_2_17_x86_64.manylinux2014_x86_64.whl (3.1 MB)\n",
            "\u001b[2K     \u001b[90m━━━━━━━━━━━━━━━━━━━━━━━━━━━━━━━━━━━━━━━━\u001b[0m \u001b[32m3.1/3.1 MB\u001b[0m \u001b[31m27.7 MB/s\u001b[0m eta \u001b[36m0:00:00\u001b[0m\n",
            "\u001b[?25hRequirement already satisfied: numpy in /usr/local/lib/python3.10/dist-packages (from biopython) (1.23.5)\n",
            "Installing collected packages: biopython\n",
            "Successfully installed biopython-1.81\n"
          ]
        }
      ],
      "source": [
        "pip install biopython"
      ]
    },
    {
      "cell_type": "markdown",
      "source": [
        "# **Importing a sequence**"
      ],
      "metadata": {
        "id": "JTGEu23LB7aJ"
      }
    },
    {
      "cell_type": "code",
      "source": [
        "from Bio import SeqIO\n",
        "\n",
        "# Open the FASTA file and parse the sequence\n",
        "filename = \"tom40.fasta\"\n",
        "for record in SeqIO.parse(filename, \"fasta\"):\n",
        "    sequence = record.seq\n",
        "    print(sequence)"
      ],
      "metadata": {
        "colab": {
          "base_uri": "https://localhost:8080/"
        },
        "id": "Z3SsI-bN_Jxz",
        "outputId": "dc4353c2-1608-42b4-da40-c999ce58cc6a"
      },
      "execution_count": null,
      "outputs": [
        {
          "output_type": "stream",
          "name": "stdout",
          "text": [
            "MSAPTPLAEASQIPTIPALSPLTAKQSKGNFFSSNPISSFVVDTYKQLHSHRQSLELVNPGTVENLNKEVSRDVFLSQYFFTGLRADLNKAFSMNPAFQTSHTFSIGSQALPKYAFSALFANDNLFAQGNIDNDLSVSGRLNYGWDKKNISKVNLQISDGQPTMCQLEQDYQASDFSVNVKTLNPSFSEKGEFTGVAVASFLQSVTPQLALGLETLYSRTDGSAPGDAGVSYLTRYVSKKQDWIFSGQLQANGALIASLWRKVAQNVEAGIETTLQAGMVPITDPLMGTPIGIQPTVEGSTTIGAKYEYRQSVYRGTLDSNGKVACFLERKVLPTLSVLFCGEIDHFKNDTKIGCGLQFETAGNQELLMLQQGLDADGNPLQALPQL\n"
          ]
        }
      ]
    },
    {
      "cell_type": "markdown",
      "source": [
        "# **Reverse complement**"
      ],
      "metadata": {
        "id": "YYSaTN8jCHAA"
      }
    },
    {
      "cell_type": "code",
      "source": [
        "from Bio.Seq import Seq\n",
        "\n",
        "# Create a DNA sequence\n",
        "sequence = Seq(\"ATCGGTAATGATAGATGA\")\n",
        "\n",
        "# Get the reverse complement\n",
        "reverse_complement = sequence.reverse_complement()\n",
        "\n",
        "# Print the reverse complement\n",
        "print(reverse_complement)"
      ],
      "metadata": {
        "id": "8jB4b0Y8Bbn6"
      },
      "execution_count": null,
      "outputs": []
    }
  ]
}